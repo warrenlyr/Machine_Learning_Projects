{
 "cells": [
  {
   "cell_type": "code",
   "execution_count": 1,
   "id": "c1682d8f-ef97-4e3f-83ab-cbcc1992a6e6",
   "metadata": {},
   "outputs": [],
   "source": [
    "#\n",
    "# 6/1/2021\n",
    "# University of Oregon\n",
    "# CIS 472: Machin Learning\n",
    "# Instructor: Thien Huu Nguyen\n",
    "#\n",
    "# Final Project\n",
    "# Part 1: image classification on [mnist_fashion] dataset,\n",
    "# usgin [CNN]\n",
    "# Submit: Warren Liu\n",
    "# "
   ]
  },
  {
   "cell_type": "code",
   "execution_count": 2,
   "id": "c7e57574-52cd-40b6-bcdb-df6556d3d2fc",
   "metadata": {},
   "outputs": [],
   "source": [
    "import tensorflow as tf\n",
    "from tensorflow import keras\n",
    "from tensorflow.keras import layers\n",
    "from tensorflow.keras import Model"
   ]
  },
  {
   "cell_type": "code",
   "execution_count": 3,
   "id": "59b9a25d-bba8-4595-8e64-77bf78a6d716",
   "metadata": {},
   "outputs": [],
   "source": [
    "# Load data and rescale\n",
    "fashion_mnist = keras.datasets.fashion_mnist\n",
    "(train_x, train_y), (test_x, test_y) = fashion_mnist.load_data()\n",
    "train_x, test_x = train_x / 255.0, test_x / 255.0\n",
    "# Because this dataset contains only balck and white images,\n",
    "# thus, add one more axis to it\n",
    "train_x = train_x[..., tf.newaxis]\n",
    "test_x = test_x[..., tf.newaxis]\n",
    "inputShape = train_x.shape"
   ]
  },
  {
   "cell_type": "code",
   "execution_count": 4,
   "id": "4f90379a-4415-48af-a05c-826d4194911f",
   "metadata": {},
   "outputs": [],
   "source": [
    "# Build the model,\n",
    "# data -> conv -> maxpool -> conv -> maxpool -> conv -> flatten -> FC\n",
    "# input is a picture of 28 x 28 picture: shape = [28, 28, 1]\n",
    "class myModel(Model):\n",
    "    def __init__(self):\n",
    "        super(myModel, self).__init__()\n",
    "        self.conv1 = layers.Conv2D(96, 3, activation='relu', input_shape=inputShape)\n",
    "        self.conv2 = layers.Conv2D(96, 3, activation='relu')\n",
    "        self.conv3 = layers.Conv2D(64, 3, activation='relu')\n",
    "        self.maxPool = layers.MaxPooling2D((2, 2), padding='same')\n",
    "        self.maxPool2 = layers.MaxPooling2D((2, 2), padding='same')\n",
    "        self.flatten = layers.Flatten()\n",
    "        self.d1 = layers.Dense(64, activation='relu')\n",
    "        self.d2 = layers.Dense(10)\n",
    "    \n",
    "    def call(self, x):\n",
    "        x = self.conv1(x)\n",
    "        x = self.maxPool(x)\n",
    "        x = self.conv2(x)\n",
    "        x = self.maxPool2(x)\n",
    "        x = self.conv3(x)\n",
    "        x = self.flatten(x)\n",
    "        x = self.d1(x)\n",
    "        return self.d2(x)"
   ]
  },
  {
   "cell_type": "code",
   "execution_count": 5,
   "id": "466c50e8-156e-4778-a2a4-90cbb0b7eef2",
   "metadata": {},
   "outputs": [],
   "source": [
    "model = myModel()\n",
    "model.compile(optimizer='adam',\n",
    "              loss=tf.keras.losses.SparseCategoricalCrossentropy(from_logits=True),\n",
    "              metrics=['accuracy'])\n",
    "\n",
    "test_case = 'Final'\n",
    "logdir = './logs/' + 'mnist_fashion_' + str(test_case)\n",
    "tf_callback = keras.callbacks.TensorBoard(log_dir=logdir)"
   ]
  },
  {
   "cell_type": "code",
   "execution_count": 6,
   "id": "24808ded-1814-4d39-b9a9-212106299e9b",
   "metadata": {},
   "outputs": [
    {
     "name": "stdout",
     "output_type": "stream",
     "text": [
      "Epoch 1/20\n",
      "1875/1875 [==============================] - 12s 5ms/step - loss: 0.4398 - accuracy: 0.8396 - val_loss: 0.3386 - val_accuracy: 0.8775\n",
      "Epoch 2/20\n",
      "1875/1875 [==============================] - 8s 4ms/step - loss: 0.2873 - accuracy: 0.8952 - val_loss: 0.2817 - val_accuracy: 0.8982\n",
      "Epoch 3/20\n",
      "1875/1875 [==============================] - 8s 4ms/step - loss: 0.2427 - accuracy: 0.9103 - val_loss: 0.2612 - val_accuracy: 0.9067\n",
      "Epoch 4/20\n",
      "1875/1875 [==============================] - 9s 5ms/step - loss: 0.2106 - accuracy: 0.9229 - val_loss: 0.2608 - val_accuracy: 0.9090\n",
      "Epoch 5/20\n",
      "1875/1875 [==============================] - 8s 4ms/step - loss: 0.1824 - accuracy: 0.9331 - val_loss: 0.2600 - val_accuracy: 0.9077\n",
      "Epoch 6/20\n",
      "1875/1875 [==============================] - 8s 4ms/step - loss: 0.1624 - accuracy: 0.9398 - val_loss: 0.2598 - val_accuracy: 0.9090\n",
      "Epoch 7/20\n",
      "1875/1875 [==============================] - 8s 4ms/step - loss: 0.1448 - accuracy: 0.9467 - val_loss: 0.2520 - val_accuracy: 0.9159\n",
      "Epoch 8/20\n",
      "1875/1875 [==============================] - 9s 5ms/step - loss: 0.1264 - accuracy: 0.9536 - val_loss: 0.2803 - val_accuracy: 0.9135\n",
      "Epoch 9/20\n",
      "1875/1875 [==============================] - 9s 5ms/step - loss: 0.1149 - accuracy: 0.9570 - val_loss: 0.2495 - val_accuracy: 0.9177\n",
      "Epoch 10/20\n",
      "1875/1875 [==============================] - 9s 5ms/step - loss: 0.1016 - accuracy: 0.9614 - val_loss: 0.2856 - val_accuracy: 0.9159\n",
      "Epoch 11/20\n",
      "1875/1875 [==============================] - 9s 5ms/step - loss: 0.0909 - accuracy: 0.9651 - val_loss: 0.2958 - val_accuracy: 0.9166\n",
      "Epoch 12/20\n",
      "1875/1875 [==============================] - 9s 5ms/step - loss: 0.0809 - accuracy: 0.9690 - val_loss: 0.3414 - val_accuracy: 0.9105\n",
      "Epoch 13/20\n",
      "1875/1875 [==============================] - 8s 4ms/step - loss: 0.0747 - accuracy: 0.9722 - val_loss: 0.3265 - val_accuracy: 0.9178\n",
      "Epoch 14/20\n",
      "1875/1875 [==============================] - 8s 4ms/step - loss: 0.0705 - accuracy: 0.9735 - val_loss: 0.3564 - val_accuracy: 0.9145\n",
      "Epoch 15/20\n",
      "1875/1875 [==============================] - 8s 4ms/step - loss: 0.0609 - accuracy: 0.9772 - val_loss: 0.3620 - val_accuracy: 0.9220\n",
      "Epoch 16/20\n",
      "1875/1875 [==============================] - 8s 4ms/step - loss: 0.0571 - accuracy: 0.9788 - val_loss: 0.4083 - val_accuracy: 0.9150\n",
      "Epoch 17/20\n",
      "1875/1875 [==============================] - 8s 4ms/step - loss: 0.0527 - accuracy: 0.9810 - val_loss: 0.4218 - val_accuracy: 0.9103\n",
      "Epoch 18/20\n",
      "1875/1875 [==============================] - 8s 4ms/step - loss: 0.0508 - accuracy: 0.9811 - val_loss: 0.4530 - val_accuracy: 0.9130\n",
      "Epoch 19/20\n",
      "1875/1875 [==============================] - 8s 4ms/step - loss: 0.0464 - accuracy: 0.9825 - val_loss: 0.4770 - val_accuracy: 0.9116\n",
      "Epoch 20/20\n",
      "1875/1875 [==============================] - 8s 4ms/step - loss: 0.0469 - accuracy: 0.9821 - val_loss: 0.4736 - val_accuracy: 0.9106\n",
      "Model: \"my_model\"\n",
      "_________________________________________________________________\n",
      "Layer (type)                 Output Shape              Param #   \n",
      "=================================================================\n",
      "conv2d (Conv2D)              multiple                  960       \n",
      "_________________________________________________________________\n",
      "conv2d_1 (Conv2D)            multiple                  83040     \n",
      "_________________________________________________________________\n",
      "conv2d_2 (Conv2D)            multiple                  55360     \n",
      "_________________________________________________________________\n",
      "max_pooling2d (MaxPooling2D) multiple                  0         \n",
      "_________________________________________________________________\n",
      "max_pooling2d_1 (MaxPooling2 multiple                  0         \n",
      "_________________________________________________________________\n",
      "flatten (Flatten)            multiple                  0         \n",
      "_________________________________________________________________\n",
      "dense (Dense)                multiple                  65600     \n",
      "_________________________________________________________________\n",
      "dense_1 (Dense)              multiple                  650       \n",
      "=================================================================\n",
      "Total params: 205,610\n",
      "Trainable params: 205,610\n",
      "Non-trainable params: 0\n",
      "_________________________________________________________________\n"
     ]
    }
   ],
   "source": [
    "model.fit(train_x, train_y, epochs=20,\n",
    "          validation_data=(test_x, test_y),\n",
    "          callbacks=[tf_callback])\n",
    "model.summary()"
   ]
  }
 ],
 "metadata": {
  "kernelspec": {
   "display_name": "Python 3",
   "language": "python",
   "name": "python3"
  },
  "language_info": {
   "codemirror_mode": {
    "name": "ipython",
    "version": 3
   },
   "file_extension": ".py",
   "mimetype": "text/x-python",
   "name": "python",
   "nbconvert_exporter": "python",
   "pygments_lexer": "ipython3",
   "version": "3.8.10"
  }
 },
 "nbformat": 4,
 "nbformat_minor": 5
}
