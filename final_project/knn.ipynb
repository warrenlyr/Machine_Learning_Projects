{
 "cells": [
  {
   "cell_type": "code",
   "execution_count": 1,
   "id": "0a1e3e2d-ca06-427d-8431-20169f11a6fe",
   "metadata": {},
   "outputs": [],
   "source": [
    "#\n",
    "# 6/2/2021\n",
    "# University of Oregon\n",
    "# CIS 472: Machin Learning\n",
    "# Instructor: Thien Huu Nguyen\n",
    "#\n",
    "# Final Project\n",
    "# Part 2: image classification on [mnist_fashion] dataset,\n",
    "# usging [KNN]\n",
    "# Submit: Warren Liu\n",
    "# "
   ]
  },
  {
   "cell_type": "code",
   "execution_count": 2,
   "id": "2c7951b4-f1ab-4267-a497-fca84a8b6373",
   "metadata": {},
   "outputs": [],
   "source": [
    "from tensorflow import keras\n",
    "import numpy as np\n",
    "from tqdm import tqdm\n",
    "import time"
   ]
  },
  {
   "cell_type": "code",
   "execution_count": 3,
   "id": "7e80d289-f83b-4e8b-90b1-a274245ccdf4",
   "metadata": {},
   "outputs": [],
   "source": [
    "k_num = [5, 7, 9, 11]"
   ]
  },
  {
   "cell_type": "code",
   "execution_count": 4,
   "id": "af06ba37-c2a1-4f09-905f-b67635bfa868",
   "metadata": {},
   "outputs": [],
   "source": [
    "# Load data and rescale\n",
    "def load_data():\n",
    "    fashion_mnist = keras.datasets.fashion_mnist\n",
    "    (train_x, train_y), (test_x, test_y) = fashion_mnist.load_data()\n",
    "    train_x, test_x = train_x / 255.0, test_x / 255.0\n",
    "    #print(f'Train data shape: {train_x.shape}, Train lable shape: {train_y.shape}')\n",
    "    #print(f'Test data shape: {test_x.shape}, Test lable shape: {test_y.shape}')\n",
    "    return (train_x, train_y), (test_x, test_y)"
   ]
  },
  {
   "cell_type": "code",
   "execution_count": 5,
   "id": "cdb78ba4-51d7-4ed4-b676-1bda9f2bb7d2",
   "metadata": {},
   "outputs": [],
   "source": [
    "# Euclidean disttence = {sum[(x1 - y1)^2 + (x2 - y2)^2 + ... + (xn - yn)^2]} ^ (0.5)\n",
    "def euclidean_dis(image1, image2):\n",
    "    return np.sum((image1 - image2) ** 2) ** (0.5)"
   ]
  },
  {
   "cell_type": "code",
   "execution_count": 6,
   "id": "54f23921-3311-4fce-896a-f85966e777f3",
   "metadata": {},
   "outputs": [],
   "source": [
    "# L0 = sum of non-zero elements\n",
    "# Input here is modified, assign 0 to 0 index, assign 1 to non-zero index\n",
    "def l0_dis(image1, image2):\n",
    "    image1_1 = np.copy(image1)\n",
    "    image2_1 = np.copy(image2)\n",
    "    image1_1[image1 > 0] = 1\n",
    "    image2_1[image2 >  0] = 1\n",
    "    return np.sum((image1_1 - image2_1) ** 2) ** (0.5)"
   ]
  },
  {
   "cell_type": "code",
   "execution_count": 7,
   "id": "942f979c-07c0-4eb0-a0b2-0e739675900b",
   "metadata": {},
   "outputs": [],
   "source": [
    "def main():\n",
    "   # Load data\n",
    "    (train_image, train_labe), (test_image, test_lable) = load_data()\n",
    "    num_train = np.shape(train_labe)[0]\n",
    "    # 10,000 is too much, training process needs 8 hours, do 100 instead\n",
    "    num_test = np.shape(test_lable)[0] // 100 \n",
    "    #print(num_train, num_test)\n",
    "    distance_fn = [euclidean_dis, l0_dis]\n",
    "    \n",
    "    for k in k_num:\n",
    "        K = k\n",
    "        for fn in distance_fn:\n",
    "            dis_fn = fn\n",
    "            start_time = time.time()\n",
    "\n",
    "            knn_lable = np.array([])\n",
    "            num_error = 0\n",
    "\n",
    "            for i in tqdm(range(num_test), desc=dis_fn.__name__):\n",
    "                dis_arr = np.array([])\n",
    "                # For each image in train dataset do\n",
    "                for j in range(num_train):\n",
    "                    #calculate distance\n",
    "                    distance = dis_fn(train_image[j], test_image[i])\n",
    "                    dis_arr = np.append(dis_arr, distance)\n",
    "\n",
    "                # Get the lable\n",
    "                s_idx = np.argsort(dis_arr)\n",
    "                k_lable = train_labe[s_idx[:K]]\n",
    "                (val, cnt) = np.unique(k_lable, return_counts=True)\n",
    "                knn_lable = np.append(knn_lable, val[np.argmax(cnt)])\n",
    "                if knn_lable[-1] != test_lable[i]: num_error += 1\n",
    "            \n",
    "            time_used = time.time() - start_time\n",
    "            template = '{}, k={} - Loss: {}, Accuracy: {}%, Time: {:.2f}s'\n",
    "            print(template.format(fn.__name__, \n",
    "                                    k,\n",
    "                                    num_error,\n",
    "                                    ((num_test - num_error) / num_test * 100.0),\n",
    "                                    time_used))\n"
   ]
  },
  {
   "cell_type": "code",
   "execution_count": 8,
   "id": "0a940217-4aac-4226-a7d7-41394fee35e7",
   "metadata": {},
   "outputs": [
    {
     "name": "stderr",
     "output_type": "stream",
     "text": [
      "euclidean_dis: 100%|█████████████████████████████████████████████████████████████████| 100/100 [02:05<00:00,  1.26s/it]\n",
      "l0_dis:   0%|                                                                                  | 0/100 [00:00<?, ?it/s]"
     ]
    },
    {
     "name": "stdout",
     "output_type": "stream",
     "text": [
      "euclidean_dis, k=5 - Loss: 13, Accuracy: 87.0%, Time: 125.83s\n"
     ]
    },
    {
     "name": "stderr",
     "output_type": "stream",
     "text": [
      "l0_dis: 100%|████████████████████████████████████████████████████████████████████████| 100/100 [03:11<00:00,  1.91s/it]\n",
      "euclidean_dis:   0%|                                                                           | 0/100 [00:00<?, ?it/s]"
     ]
    },
    {
     "name": "stdout",
     "output_type": "stream",
     "text": [
      "l0_dis, k=5 - Loss: 16, Accuracy: 84.0%, Time: 191.47s\n"
     ]
    },
    {
     "name": "stderr",
     "output_type": "stream",
     "text": [
      "euclidean_dis: 100%|█████████████████████████████████████████████████████████████████| 100/100 [02:01<00:00,  1.21s/it]\n",
      "l0_dis:   0%|                                                                                  | 0/100 [00:00<?, ?it/s]"
     ]
    },
    {
     "name": "stdout",
     "output_type": "stream",
     "text": [
      "euclidean_dis, k=7 - Loss: 16, Accuracy: 84.0%, Time: 121.04s\n"
     ]
    },
    {
     "name": "stderr",
     "output_type": "stream",
     "text": [
      "l0_dis: 100%|████████████████████████████████████████████████████████████████████████| 100/100 [03:09<00:00,  1.90s/it]\n",
      "euclidean_dis:   0%|                                                                           | 0/100 [00:00<?, ?it/s]"
     ]
    },
    {
     "name": "stdout",
     "output_type": "stream",
     "text": [
      "l0_dis, k=7 - Loss: 13, Accuracy: 87.0%, Time: 189.54s\n"
     ]
    },
    {
     "name": "stderr",
     "output_type": "stream",
     "text": [
      "euclidean_dis: 100%|█████████████████████████████████████████████████████████████████| 100/100 [01:56<00:00,  1.17s/it]\n",
      "l0_dis:   0%|                                                                                  | 0/100 [00:00<?, ?it/s]"
     ]
    },
    {
     "name": "stdout",
     "output_type": "stream",
     "text": [
      "euclidean_dis, k=9 - Loss: 15, Accuracy: 85.0%, Time: 116.68s\n"
     ]
    },
    {
     "name": "stderr",
     "output_type": "stream",
     "text": [
      "l0_dis: 100%|████████████████████████████████████████████████████████████████████████| 100/100 [03:11<00:00,  1.91s/it]\n",
      "euclidean_dis:   0%|                                                                           | 0/100 [00:00<?, ?it/s]"
     ]
    },
    {
     "name": "stdout",
     "output_type": "stream",
     "text": [
      "l0_dis, k=9 - Loss: 15, Accuracy: 85.0%, Time: 191.41s\n"
     ]
    },
    {
     "name": "stderr",
     "output_type": "stream",
     "text": [
      "euclidean_dis: 100%|█████████████████████████████████████████████████████████████████| 100/100 [02:00<00:00,  1.20s/it]\n",
      "l0_dis:   0%|                                                                                  | 0/100 [00:00<?, ?it/s]"
     ]
    },
    {
     "name": "stdout",
     "output_type": "stream",
     "text": [
      "euclidean_dis, k=11 - Loss: 17, Accuracy: 83.0%, Time: 120.02s\n"
     ]
    },
    {
     "name": "stderr",
     "output_type": "stream",
     "text": [
      "l0_dis: 100%|████████████████████████████████████████████████████████████████████████| 100/100 [03:09<00:00,  1.90s/it]"
     ]
    },
    {
     "name": "stdout",
     "output_type": "stream",
     "text": [
      "l0_dis, k=11 - Loss: 15, Accuracy: 85.0%, Time: 189.59s\n"
     ]
    },
    {
     "name": "stderr",
     "output_type": "stream",
     "text": [
      "\n"
     ]
    }
   ],
   "source": [
    "if __name__ == '__main__':\n",
    "    main()"
   ]
  }
 ],
 "metadata": {
  "kernelspec": {
   "display_name": "Python 3",
   "language": "python",
   "name": "python3"
  },
  "language_info": {
   "codemirror_mode": {
    "name": "ipython",
    "version": 3
   },
   "file_extension": ".py",
   "mimetype": "text/x-python",
   "name": "python",
   "nbconvert_exporter": "python",
   "pygments_lexer": "ipython3",
   "version": "3.8.10"
  }
 },
 "nbformat": 4,
 "nbformat_minor": 5
}
