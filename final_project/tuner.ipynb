{
 "cells": [
  {
   "cell_type": "code",
   "execution_count": 1,
   "id": "f2c47e8f-093c-420c-9ede-c5f6668c7e50",
   "metadata": {},
   "outputs": [],
   "source": [
    "#\n",
    "# 6/1/2021\n",
    "# University of Oregon\n",
    "# CIS 472: Machin Learning\n",
    "# Instructor: Thien Huu Nguyen\n",
    "#\n",
    "# Final Project\n",
    "# Part 3: tune HP\n",
    "# Submit: Warren Liu\n",
    "# "
   ]
  },
  {
   "cell_type": "code",
   "execution_count": 2,
   "id": "66a2407a-4ee1-4ad8-a5e1-788c40d768b2",
   "metadata": {},
   "outputs": [],
   "source": [
    "import tensorflow as tf\n",
    "from tensorflow import keras\n",
    "from tensorflow.keras import layers\n",
    "import kerastuner as kt"
   ]
  },
  {
   "cell_type": "code",
   "execution_count": 3,
   "id": "e63c8d09-fdd4-485a-8753-fd699c1986fc",
   "metadata": {},
   "outputs": [],
   "source": [
    "# Load data and rescale\n",
    "fashion_mnist = keras.datasets.fashion_mnist\n",
    "(train_x, train_y), (test_x, test_y) = fashion_mnist.load_data()\n",
    "train_x, test_x = train_x / 255.0, test_x / 255.0\n",
    "# Because this dataset contains only balck and white images,\n",
    "# thus, add one more axis to it\n",
    "train_x = train_x[..., tf.newaxis]\n",
    "test_x = test_x[..., tf.newaxis]\n",
    "inputShape = train_x.shape"
   ]
  },
  {
   "cell_type": "code",
   "execution_count": 4,
   "id": "7733e2d2-1cb5-4044-b5cc-e42725917377",
   "metadata": {},
   "outputs": [],
   "source": [
    "def model_builder(hp):\n",
    "    model = keras.Sequential()\n",
    "    conv1_size = hp.Int('filters1', min_value=32, max_value=128, step=32)\n",
    "    conv2_size = hp.Int('filters2', min_value=32, max_value=128, step=32)\n",
    "    conv3_size = hp.Int('filters3', min_value=32, max_value=128, step=32)\n",
    "    dense_size = hp.Int('units', min_value=32, max_value=128, step=32)\n",
    "    model.add(layers.Conv2D(filters=conv1_size, kernel_size=3, activation='relu'))\n",
    "    model.add(layers.MaxPooling2D((2,2), padding='same'))\n",
    "    model.add(layers.Conv2D(filters=conv2_size, kernel_size=3, activation='relu'))\n",
    "    model.add(layers.MaxPooling2D((2,2), padding='same'))\n",
    "    model.add(layers.Conv2D(filters=conv3_size, kernel_size=3, activation='relu'))\n",
    "    model.add(layers.Flatten())\n",
    "    model.add(layers.Dense(units=dense_size, activation='relu'))\n",
    "    model.add(layers.Dense(10))\n",
    "\n",
    "    model.compile(optimizer='adam',\n",
    "              loss=tf.keras.losses.SparseCategoricalCrossentropy(from_logits=True),\n",
    "              metrics=['accuracy'])\n",
    "\n",
    "    return model"
   ]
  },
  {
   "cell_type": "code",
   "execution_count": 5,
   "id": "d71fa03c-78af-4443-9ebe-4ace6ba656a3",
   "metadata": {},
   "outputs": [],
   "source": [
    "tuner = kt.Hyperband(model_builder,\n",
    "        objective='val_accuracy',\n",
    "        max_epochs=10,\n",
    "        factor=3)"
   ]
  },
  {
   "cell_type": "code",
   "execution_count": 6,
   "id": "2398d057-f2c7-4cf9-adde-b41441dc24dd",
   "metadata": {},
   "outputs": [
    {
     "name": "stdout",
     "output_type": "stream",
     "text": [
      "Trial 30 Complete [00h 01m 06s]\n",
      "val_accuracy: 0.9141666889190674\n",
      "\n",
      "Best val_accuracy So Far: 0.9211666584014893\n",
      "Total elapsed time: 00h 13m 48s\n",
      "INFO:tensorflow:Oracle triggered exit\n",
      "\n",
      "    conv1 size: 64\n",
      "\n",
      "    conv2 size: 128\n",
      "\n",
      "    conv3 size: 96\n",
      "\n",
      "    dense size: 32\n",
      "\n"
     ]
    }
   ],
   "source": [
    "stop_early = tf.keras.callbacks.EarlyStopping(monitor='val_loss', patience=5)\n",
    "tuner.search(train_x, train_y, epochs=50, validation_split=0.2, callbacks=[stop_early])\n",
    "best_hps=tuner.get_best_hyperparameters(num_trials=1)[0]\n",
    "print(f'''\n",
    "    conv1 size: {best_hps.get('filters1')}\\n\n",
    "    conv2 size: {best_hps.get('filters2')}\\n\n",
    "    conv3 size: {best_hps.get('filters3')}\\n\n",
    "    dense size: {best_hps.get('units')}\n",
    "''')"
   ]
  }
 ],
 "metadata": {
  "kernelspec": {
   "display_name": "Python 3",
   "language": "python",
   "name": "python3"
  },
  "language_info": {
   "codemirror_mode": {
    "name": "ipython",
    "version": 3
   },
   "file_extension": ".py",
   "mimetype": "text/x-python",
   "name": "python",
   "nbconvert_exporter": "python",
   "pygments_lexer": "ipython3",
   "version": "3.8.10"
  }
 },
 "nbformat": 4,
 "nbformat_minor": 5
}
